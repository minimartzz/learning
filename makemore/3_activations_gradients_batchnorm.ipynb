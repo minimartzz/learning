{
 "cells": [
  {
   "cell_type": "markdown",
   "metadata": {},
   "source": [
    "# Activations, Gradients, BatchNorm\n",
    "\n",
    "[Building makemore Part 3: Activations & Gradients, BatchNorm](https://www.youtube.com/watch?v=P6sfmUTpUmc)"
   ]
  },
  {
   "cell_type": "markdown",
   "metadata": {},
   "source": [
    "| Date | User | Change Type | Remarks |  \n",
    "| ---- | ---- | ----------- | ------- |\n",
    "| 21/10/2025   | Martin | Created   | Notebook created for lecture 3 | "
   ]
  },
  {
   "cell_type": "markdown",
   "metadata": {
    "vscode": {
     "languageId": "plaintext"
    }
   },
   "source": [
    "# Content\n",
    "\n",
    "* [Original Model](#original-model)\n",
    "* [Problems with the Original Model](#problems-with-the-original-model)\n",
    "* [Selecting Initialisation Parameters](#selecting-initialisation-parameters)\n",
    "* [Batch Normalisation](#batch-normalisation)"
   ]
  },
  {
   "cell_type": "markdown",
   "metadata": {},
   "source": [
    "# Original Model"
   ]
  },
  {
   "cell_type": "code",
   "execution_count": 1,
   "metadata": {},
   "outputs": [],
   "source": [
    "%load_ext watermark"
   ]
  },
  {
   "cell_type": "code",
   "execution_count": 2,
   "metadata": {},
   "outputs": [],
   "source": [
    "import torch\n",
    "import torch.nn.functional as F\n",
    "import matplotlib.pyplot as plt\n",
    "%matplotlib inline"
   ]
  },
  {
   "cell_type": "code",
   "execution_count": 3,
   "metadata": {},
   "outputs": [
    {
     "data": {
      "text/plain": [
       "['emma', 'olivia', 'ava', 'isabella', 'sophia', 'charlotte', 'mia', 'amelia']"
      ]
     },
     "execution_count": 3,
     "metadata": {},
     "output_type": "execute_result"
    }
   ],
   "source": [
    "# Read in all the words\n",
    "words = open('data/names.txt', 'r').read().splitlines()\n",
    "words[:8]"
   ]
  },
  {
   "cell_type": "code",
   "execution_count": 4,
   "metadata": {},
   "outputs": [
    {
     "name": "stdout",
     "output_type": "stream",
     "text": [
      "{1: 'a', 2: 'b', 3: 'c', 4: 'd', 5: 'e', 6: 'f', 7: 'g', 8: 'h', 9: 'i', 10: 'j', 11: 'k', 12: 'l', 13: 'm', 14: 'n', 15: 'o', 16: 'p', 17: 'q', 18: 'r', 19: 's', 20: 't', 21: 'u', 22: 'v', 23: 'w', 24: 'x', 25: 'y', 26: 'z', 0: '.'}\n",
      "27\n"
     ]
    }
   ],
   "source": [
    "# Build the vocabulary of characters and mappings to/from integers\n",
    "chars = sorted(list(set(''.join(words))))\n",
    "stoi = {v: k+1 for k, v in enumerate(chars)}\n",
    "stoi['.'] = 0\n",
    "itos = {v: k for k, v in stoi.items()}\n",
    "vocab_size = len(itos)\n",
    "print(itos)\n",
    "print(vocab_size)"
   ]
  },
  {
   "cell_type": "code",
   "execution_count": 9,
   "metadata": {},
   "outputs": [
    {
     "name": "stdout",
     "output_type": "stream",
     "text": [
      "torch.Size([182437, 3]) torch.Size([182437])\n",
      "torch.Size([22781, 3]) torch.Size([22781])\n",
      "torch.Size([22928, 3]) torch.Size([22928])\n"
     ]
    }
   ],
   "source": [
    "def build_dataset(words):\n",
    "  block_size = 3\n",
    "  X, Y = [], []\n",
    "  for w in words:\n",
    "    context = [0] * block_size\n",
    "    for ch in w + '.':\n",
    "      ix = stoi[ch]\n",
    "      X.append(context)\n",
    "      Y.append(ix)\n",
    "      context = context[1:] + [ix]\n",
    "    \n",
    "  X = torch.tensor(X)\n",
    "  Y = torch.tensor(Y)\n",
    "  print(X.shape, Y.shape)\n",
    "\n",
    "  return X, Y\n",
    "\n",
    "import random\n",
    "random.seed(42)\n",
    "random.shuffle(words)\n",
    "n1 = int(0.8 * len(words))\n",
    "n2 = int(0.9 * len(words))\n",
    "\n",
    "X_train, y_train = build_dataset(words[:n1])\n",
    "X_val, y_val = build_dataset(words[n1:n2])\n",
    "X_test, y_test = build_dataset(words[n2:])\n",
    "\n",
    "block_size = 3"
   ]
  },
  {
   "cell_type": "code",
   "execution_count": 10,
   "metadata": {},
   "outputs": [
    {
     "name": "stdout",
     "output_type": "stream",
     "text": [
      "Total number of parameters: 11897\n"
     ]
    }
   ],
   "source": [
    "# Initialise weights and biases\n",
    "n_embd = 10\n",
    "n_hidden = 200\n",
    "\n",
    "g = torch.Generator().manual_seed(2147483647)\n",
    "C = torch.randn((vocab_size, n_embd), generator=g) # represents the weights of each letter\n",
    "W1 = torch.randn((n_embd * block_size, n_hidden), generator=g)\n",
    "b1 = torch.randn(n_hidden, generator=g)\n",
    "W2 = torch.randn((n_hidden, vocab_size), generator=g)\n",
    "b2 = torch.randn(vocab_size, generator=g)\n",
    "\n",
    "parameters = [C, W1, b1, W2, b2]\n",
    "for p in parameters:\n",
    "  p.requires_grad = True\n",
    "\n",
    "print(f\"Total number of parameters: {sum(p.nelement() for p in parameters)}\")"
   ]
  },
  {
   "cell_type": "code",
   "execution_count": null,
   "metadata": {},
   "outputs": [
    {
     "name": "stdout",
     "output_type": "stream",
     "text": [
      "      0/ 200000: 25.5262\n",
      "  10000/ 200000: 1.8764\n",
      "  20000/ 200000: 2.2232\n",
      "  30000/ 200000: 2.4598\n",
      "  40000/ 200000: 2.7547\n",
      "  50000/ 200000: 2.0915\n",
      "  60000/ 200000: 2.7164\n",
      "  70000/ 200000: 2.5265\n",
      "  80000/ 200000: 2.0639\n",
      "  90000/ 200000: 2.5379\n",
      " 100000/ 200000: 2.3101\n",
      " 110000/ 200000: 2.2106\n",
      " 120000/ 200000: 2.0415\n",
      " 130000/ 200000: 1.7847\n",
      " 140000/ 200000: 2.5636\n",
      " 150000/ 200000: 2.2658\n",
      " 160000/ 200000: 2.0577\n",
      " 170000/ 200000: 2.1290\n",
      " 180000/ 200000: 2.5550\n",
      " 190000/ 200000: 1.8188\n"
     ]
    }
   ],
   "source": [
    "# Model\n",
    "max_steps = 200_000\n",
    "batch_size = 32\n",
    "lossi = []\n",
    "\n",
    "for i in range(max_steps):\n",
    "  # minibatch\n",
    "  ix = torch.randint(0, X_train.shape[0], (batch_size,), generator=g)\n",
    "  X_batch, y_batch = X_train[ix], y_train[ix]\n",
    "\n",
    "  # forward pass\n",
    "  emb = C[X_batch]\n",
    "  h = torch.tanh(emb.view(emb.shape[0], -1) @ W1 + b1)\n",
    "  logits = h @ W2 + b2\n",
    "  loss = F.cross_entropy(logits, y_batch)\n",
    "\n",
    "  # backward pass\n",
    "  for p in parameters:\n",
    "    p.grad = None\n",
    "  loss.backward()\n",
    "\n",
    "  # Update\n",
    "  lr = 0.1 if i < 100_000 else 0.01\n",
    "  for p in parameters:\n",
    "    p.data += -lr * p.grad\n",
    "  \n",
    "  # Track stats\n",
    "  if i % 10_000 == 0:\n",
    "    print(f\"{i:7d}/{max_steps:7d}: {loss.item():.4f}\")\n",
    "  lossi.append(loss.log10().item())"
   ]
  },
  {
   "cell_type": "code",
   "execution_count": 12,
   "metadata": {},
   "outputs": [
    {
     "data": {
      "text/plain": [
       "[<matplotlib.lines.Line2D at 0x22461a8d8d0>]"
      ]
     },
     "execution_count": 12,
     "metadata": {},
     "output_type": "execute_result"
    },
    {
     "data": {
      "image/png": "[encoded data removed]",
      "text/plain": [
       "<Figure size 640x480 with 1 Axes>"
      ]
     },
     "metadata": {},
     "output_type": "display_data"
    }
   ],
   "source": [
    "plt.plot(lossi)"
   ]
  },
  {
   "cell_type": "code",
   "execution_count": 13,
   "metadata": {},
   "outputs": [
    {
     "name": "stdout",
     "output_type": "stream",
     "text": [
      "train 2.122971773147583\n",
      "val 2.1836750507354736\n"
     ]
    }
   ],
   "source": [
    "# For evaluation\n",
    "@torch.no_grad()\n",
    "def split_loss(split):\n",
    "  x, y = {\n",
    "    'train': (X_train, y_train),\n",
    "    'val': (X_val, y_val),\n",
    "    'test': (X_test, y_test)\n",
    "  }[split]\n",
    "\n",
    "  emb = C[x]\n",
    "  h = torch.tanh(emb.view(emb.shape[0], -1) @ W1 + b1)\n",
    "  logits = h @ W2 + b2\n",
    "  loss = F.cross_entropy(logits, y)\n",
    "  print(split, loss.item())\n",
    "\n",
    "split_loss('train')\n",
    "split_loss('val')"
   ]
  },
  {
   "cell_type": "code",
   "execution_count": 14,
   "metadata": {},
   "outputs": [
    {
     "name": "stdout",
     "output_type": "stream",
     "text": [
      "carmahzati.\n",
      "hari.\n",
      "kimleigentleenandell.\n",
      "mahnen.\n",
      "den.\n",
      "art.\n",
      "kaeli.\n",
      "nellara.\n",
      "chriiv.\n",
      "kaleigh.\n",
      "ham.\n",
      "joce.\n",
      "quint.\n",
      "suline.\n",
      "liven.\n",
      "corathoniearyni.\n",
      "jaxeephurabeed.\n",
      "edi.\n",
      "abette.\n",
      "hasti.\n"
     ]
    }
   ],
   "source": [
    "g = torch.Generator().manual_seed(2147483647 + 10)\n",
    "\n",
    "for _ in range(20):\n",
    "  out = []\n",
    "  context = [0] * block_size\n",
    "  while True:\n",
    "    emb = C[torch.tensor([context])]\n",
    "    h = torch.tanh(emb.view(1, -1) @ W1 + b1)\n",
    "    logits = h @ W2 + b2\n",
    "    probs = F.softmax(logits, dim=1)\n",
    "    ix = torch.multinomial(probs, num_samples=1, generator=g).item()\n",
    "    context = context[1:] + [ix]\n",
    "    out.append(ix)\n",
    "    if ix == 0:\n",
    "      break\n",
    "  \n",
    "  print(''.join(itos[i] for i in out))"
   ]
  },
  {
   "cell_type": "markdown",
   "metadata": {},
   "source": [
    "---"
   ]
  },
  {
   "cell_type": "markdown",
   "metadata": {},
   "source": [
    "# Problems with The Original Model"
   ]
  },
  {
   "cell_type": "markdown",
   "metadata": {},
   "source": [
    "## Initial weight and initialisation loss\n",
    "\n",
    "- Often we would have __an idea of what the initial loss__ should look like\n",
    "- Initialisation loss is too high (25+), expected uniform distribution since likelihood of all chracters are the same\n",
    "  - Happens because the `softmax` is assigning very wide distribution which causes the loss to be off\n",
    "  - Goal is to make a uniform distribution with some __small__ variation in the weights"
   ]
  },
  {
   "cell_type": "code",
   "execution_count": null,
   "metadata": {},
   "outputs": [
    {
     "data": {
      "text/plain": [
       "tensor(3.2958)"
      ]
     },
     "execution_count": 16,
     "metadata": {},
     "output_type": "execute_result"
    }
   ],
   "source": [
    "# Expected value\n",
    "-torch.tensor(1/27.0).log()"
   ]
  },
  {
   "cell_type": "code",
   "execution_count": null,
   "metadata": {},
   "outputs": [
    {
     "data": {
      "text/plain": [
       "tensor([[-0.0373, -0.0871, -0.0486,  ..., -0.0201,  0.1541, -0.2888],\n",
       "        [-0.0205,  0.1022, -0.0046,  ...,  0.0999, -0.1100, -0.0731],\n",
       "        [ 0.0339,  0.1234, -0.0389,  ..., -0.0337,  0.0246,  0.1154],\n",
       "        ...,\n",
       "        [ 0.1002,  0.0396, -0.1016,  ..., -0.0548,  0.0164,  0.0033],\n",
       "        [ 0.0115, -0.0723, -0.0072,  ..., -0.0987,  0.0468, -0.0479],\n",
       "        [ 0.1195, -0.1391,  0.1748,  ...,  0.1166,  0.1666,  0.2088]])"
      ]
     },
     "execution_count": 19,
     "metadata": {},
     "output_type": "execute_result"
    }
   ],
   "source": [
    "# Example of smaller weights\n",
    "torch.randn((n_hidden, vocab_size), generator=g) * 0.1 # Reducing the difference between each vale # Reducing the difference between each vale # Reducing the difference between each vale # Reducing the difference between each value"
   ]
  },
  {
   "cell_type": "code",
   "execution_count": 45,
   "metadata": {},
   "outputs": [
    {
     "name": "stdout",
     "output_type": "stream",
     "text": [
      "Total number of parameters: 11897\n"
     ]
    }
   ],
   "source": [
    "# Initialise weights and biases\n",
    "n_embd = 10\n",
    "n_hidden = 200\n",
    "\n",
    "# Fixing the problems below\n",
    "g = torch.Generator().manual_seed(2147483647)\n",
    "C = torch.randn((vocab_size, n_embd), generator=g) \n",
    "W1 = torch.randn((n_embd * block_size, n_hidden), generator=g) * 0.2\n",
    "b1 = torch.randn(n_hidden, generator=g) * 0.01\n",
    "W2 = torch.randn((n_hidden, vocab_size), generator=g) * 0.01\n",
    "b2 = torch.randn(vocab_size, generator=g) * 0\n",
    "\n",
    "parameters = [C, W1, b1, W2, b2]\n",
    "for p in parameters:\n",
    "  p.requires_grad = True\n",
    "\n",
    "print(f\"Total number of parameters: {sum(p.nelement() for p in parameters)}\")"
   ]
  },
  {
   "cell_type": "code",
   "execution_count": 50,
   "metadata": {},
   "outputs": [
    {
     "name": "stdout",
     "output_type": "stream",
     "text": [
      "      0/ 200000: 3.2456\n",
      "  10000/ 200000: 2.2303\n",
      "  20000/ 200000: 2.0571\n",
      "  30000/ 200000: 2.3195\n",
      "  40000/ 200000: 2.0922\n",
      "  50000/ 200000: 1.9866\n",
      "  60000/ 200000: 1.8602\n",
      "  70000/ 200000: 2.3677\n",
      "  80000/ 200000: 2.3242\n",
      "  90000/ 200000: 2.5517\n",
      " 100000/ 200000: 2.1420\n",
      " 110000/ 200000: 1.7095\n",
      " 120000/ 200000: 2.0184\n",
      " 130000/ 200000: 2.0786\n",
      " 140000/ 200000: 1.9988\n",
      " 150000/ 200000: 2.0864\n",
      " 160000/ 200000: 1.7745\n",
      " 170000/ 200000: 1.8406\n",
      " 180000/ 200000: 2.0670\n",
      " 190000/ 200000: 1.9148\n"
     ]
    }
   ],
   "source": [
    "# Model\n",
    "max_steps = 200_000\n",
    "batch_size = 32\n",
    "lossi = []\n",
    "\n",
    "for i in range(max_steps):\n",
    "  # minibatch\n",
    "  ix = torch.randint(0, X_train.shape[0], (batch_size,), generator=g)\n",
    "  X_batch, y_batch = X_train[ix], y_train[ix]\n",
    "\n",
    "  # forward pass\n",
    "  emb = C[X_batch]\n",
    "  embcat = emb.view(emb.shape[0], -1)\n",
    "  hpreact = embcat @ W1 + b1\n",
    "  h = torch.tanh(hpreact)\n",
    "  logits = h @ W2 + b2\n",
    "  loss = F.cross_entropy(logits, y_batch)\n",
    "\n",
    "  # backward pass\n",
    "  for p in parameters:\n",
    "    p.grad = None\n",
    "  loss.backward()\n",
    "\n",
    "  # Update\n",
    "  lr = 0.1 if i < 100_000 else 0.01\n",
    "  for p in parameters:\n",
    "    p.data += -lr * p.grad\n",
    "  \n",
    "  # Track stats\n",
    "  if i % 10_000 == 0:\n",
    "    print(f\"{i:7d}/{max_steps:7d}: {loss.item():.4f}\")\n",
    "  lossi.append(loss.log10().item())"
   ]
  },
  {
   "cell_type": "markdown",
   "metadata": {},
   "source": [
    "Model has more time spent optimising the weights since the initial rounds of the training sequence no longer needs to squash the weight value"
   ]
  },
  {
   "cell_type": "code",
   "execution_count": 27,
   "metadata": {},
   "outputs": [
    {
     "name": "stdout",
     "output_type": "stream",
     "text": [
      "train 2.064987897872925\n",
      "val 2.1448941230773926\n"
     ]
    }
   ],
   "source": [
    "split_loss('train')\n",
    "split_loss('val')"
   ]
  },
  {
   "cell_type": "code",
   "execution_count": 29,
   "metadata": {},
   "outputs": [
    {
     "data": {
      "text/plain": [
       "[<matplotlib.lines.Line2D at 0x22462965850>]"
      ]
     },
     "execution_count": 29,
     "metadata": {},
     "output_type": "execute_result"
    },
    {
     "data": {
      "image/png": "[encoded data removed]",
      "text/plain": [
       "<Figure size 640x480 with 1 Axes>"
      ]
     },
     "metadata": {},
     "output_type": "display_data"
    }
   ],
   "source": [
    "plt.plot(lossi)"
   ]
  },
  {
   "cell_type": "markdown",
   "metadata": {},
   "source": [
    "## Tanh and gradients\n",
    "\n",
    "- Tanh function forces values to be within -1 and 1. Because the original distribution of weights are wide, it forces many values of `tanh` to be at the extreme ends\n",
    "- Causes the vanishing gradient problem (i.e if any of the columns in the white and black box plot are all white), causes dead neurons since gradients are not updating any values\n",
    "- 📜 NOTE: This happens when the activation functions have flat regions"
   ]
  },
  {
   "cell_type": "code",
   "execution_count": 31,
   "metadata": {},
   "outputs": [
    {
     "data": {
      "text/plain": [
       "(array([2143.,  141.,   99.,   68.,   62.,   46.,   20.,   54.,   29.,\n",
       "          33.,   23.,   18.,   28.,   36.,   15.,   22.,   26.,   28.,\n",
       "          17.,   24.,   13.,   29.,   18.,   14.,   19.,   15.,   15.,\n",
       "          12.,   13.,   12.,   15.,   32.,   20.,   19.,   16.,   21.,\n",
       "          29.,   19.,   33.,   34.,   32.,   29.,   42.,   53.,   45.,\n",
       "          52.,   65.,   86.,  147., 2519.]),\n",
       " array([-1.  , -0.96, -0.92, -0.88, -0.84, -0.8 , -0.76, -0.72, -0.68,\n",
       "        -0.64, -0.6 , -0.56, -0.52, -0.48, -0.44, -0.4 , -0.36, -0.32,\n",
       "        -0.28, -0.24, -0.2 , -0.16, -0.12, -0.08, -0.04,  0.  ,  0.04,\n",
       "         0.08,  0.12,  0.16,  0.2 ,  0.24,  0.28,  0.32,  0.36,  0.4 ,\n",
       "         0.44,  0.48,  0.52,  0.56,  0.6 ,  0.64,  0.68,  0.72,  0.76,\n",
       "         0.8 ,  0.84,  0.88,  0.92,  0.96,  1.  ]),\n",
       " <BarContainer object of 50 artists>)"
      ]
     },
     "execution_count": 31,
     "metadata": {},
     "output_type": "execute_result"
    },
    {
     "data": {
      "image/png": "[encoded data removed]",
      "text/plain": [
       "<Figure size 640x480 with 1 Axes>"
      ]
     },
     "metadata": {},
     "output_type": "display_data"
    }
   ],
   "source": [
    "# Plot the intermediate node values as a histogram\n",
    "plt.hist(h.view(-1).tolist(), 50)"
   ]
  },
  {
   "cell_type": "code",
   "execution_count": 32,
   "metadata": {},
   "outputs": [
    {
     "data": {
      "text/plain": [
       "(array([  2.,   5.,   4.,   5.,   6.,  12.,  10.,  17.,  24.,  47.,  46.,\n",
       "         80., 111., 148., 166., 200., 267., 307., 334., 343., 427., 472.,\n",
       "        470., 398., 364., 340., 319., 315., 255., 216., 175., 122., 113.,\n",
       "         78.,  59.,  49.,  27.,  22.,  23.,   5.,  10.,   2.,   1.,   1.,\n",
       "          1.,   0.,   1.,   0.,   0.,   1.]),\n",
       " array([-2.20257263e+01, -2.10235646e+01, -2.00214030e+01, -1.90192413e+01,\n",
       "        -1.80170796e+01, -1.70149179e+01, -1.60127563e+01, -1.50105946e+01,\n",
       "        -1.40084329e+01, -1.30062712e+01, -1.20041096e+01, -1.10019479e+01,\n",
       "        -9.99978622e+00, -8.99762455e+00, -7.99546288e+00, -6.99330120e+00,\n",
       "        -5.99113953e+00, -4.98897785e+00, -3.98681618e+00, -2.98465450e+00,\n",
       "        -1.98249283e+00, -9.80331154e-01,  2.18305206e-02,  1.02399220e+00,\n",
       "         2.02615387e+00,  3.02831554e+00,  4.03047722e+00,  5.03263889e+00,\n",
       "         6.03480057e+00,  7.03696224e+00,  8.03912392e+00,  9.04128559e+00,\n",
       "         1.00434473e+01,  1.10456089e+01,  1.20477706e+01,  1.30499323e+01,\n",
       "         1.40520940e+01,  1.50542556e+01,  1.60564173e+01,  1.70585790e+01,\n",
       "         1.80607407e+01,  1.90629023e+01,  2.00650640e+01,  2.10672257e+01,\n",
       "         2.20693874e+01,  2.30715490e+01,  2.40737107e+01,  2.50758724e+01,\n",
       "         2.60780341e+01,  2.70801957e+01,  2.80823574e+01]),\n",
       " <BarContainer object of 50 artists>)"
      ]
     },
     "execution_count": 32,
     "metadata": {},
     "output_type": "execute_result"
    },
    {
     "data": {
      "image/png": "[encoded data removed]",
      "text/plain": [
       "<Figure size 640x480 with 1 Axes>"
      ]
     },
     "metadata": {},
     "output_type": "display_data"
    }
   ],
   "source": [
    "plt.hist(hpreact.view(-1).tolist(), 50)"
   ]
  },
  {
   "cell_type": "code",
   "execution_count": 38,
   "metadata": {},
   "outputs": [
    {
     "data": {
      "text/plain": [
       "<matplotlib.image.AxesImage at 0x2246ff66590>"
      ]
     },
     "execution_count": 38,
     "metadata": {},
     "output_type": "execute_result"
    },
    {
     "data": {
      "image/png": "[encoded data removed]",
      "text/plain": [
       "<Figure size 2000x1000 with 1 Axes>"
      ]
     },
     "metadata": {},
     "output_type": "display_data"
    }
   ],
   "source": [
    "plt.figure(figsize=(20, 10))\n",
    "plt.imshow(h.abs() > 0.99, cmap='gray', interpolation='nearest')"
   ]
  },
  {
   "cell_type": "markdown",
   "metadata": {},
   "source": [
    "Replotting with the updated initialisations"
   ]
  },
  {
   "cell_type": "code",
   "execution_count": 51,
   "metadata": {},
   "outputs": [
    {
     "data": {
      "text/plain": [
       "(array([1059.,  200.,  139.,  113.,   93.,   84.,   69.,   66.,   55.,\n",
       "          58.,   51.,   54.,   55.,   60.,   70.,   60.,   63.,   50.,\n",
       "          64.,   97.,   85.,  128.,  100.,  170.,  116.,  108.,   76.,\n",
       "          96.,   92.,  105.,   84.,   87.,   90.,   63.,   44.,   74.,\n",
       "          63.,   69.,   62.,   72.,   59.,   60.,   75.,   66.,   89.,\n",
       "         107.,   95.,  130.,  230., 1145.]),\n",
       " array([-1.  , -0.96, -0.92, -0.88, -0.84, -0.8 , -0.76, -0.72, -0.68,\n",
       "        -0.64, -0.6 , -0.56, -0.52, -0.48, -0.44, -0.4 , -0.36, -0.32,\n",
       "        -0.28, -0.24, -0.2 , -0.16, -0.12, -0.08, -0.04,  0.  ,  0.04,\n",
       "         0.08,  0.12,  0.16,  0.2 ,  0.24,  0.28,  0.32,  0.36,  0.4 ,\n",
       "         0.44,  0.48,  0.52,  0.56,  0.6 ,  0.64,  0.68,  0.72,  0.76,\n",
       "         0.8 ,  0.84,  0.88,  0.92,  0.96,  1.  ]),\n",
       " <BarContainer object of 50 artists>)"
      ]
     },
     "execution_count": 51,
     "metadata": {},
     "output_type": "execute_result"
    },
    {
     "data": {
      "image/png": "[encoded data removed]",
      "text/plain": [
       "<Figure size 640x480 with 1 Axes>"
      ]
     },
     "metadata": {},
     "output_type": "display_data"
    }
   ],
   "source": [
    "plt.hist(h.view(-1).tolist(), 50)"
   ]
  },
  {
   "cell_type": "code",
   "execution_count": 52,
   "metadata": {},
   "outputs": [
    {
     "data": {
      "text/plain": [
       "(array([  1.,   1.,   1.,   3.,   5.,   4.,   7.,  10.,  11.,  19.,  31.,\n",
       "         49.,  58.,  64.,  92., 109., 119., 180., 200., 199., 234., 285.,\n",
       "        309., 458., 990., 668., 395., 321., 225., 244., 231., 188., 142.,\n",
       "        127.,  88.,  78.,  67.,  43.,  41.,  30.,  25.,  11.,  14.,   8.,\n",
       "          7.,   2.,   2.,   2.,   1.,   1.]),\n",
       " array([-9.24822712, -8.87346127, -8.49869541, -8.12392956, -7.7491637 ,\n",
       "        -7.37439785, -6.999632  , -6.62486614, -6.25010029, -5.87533443,\n",
       "        -5.50056858, -5.12580273, -4.75103687, -4.37627102, -4.00150517,\n",
       "        -3.62673931, -3.25197346, -2.8772076 , -2.50244175, -2.1276759 ,\n",
       "        -1.75291004, -1.37814419, -1.00337833, -0.62861248, -0.25384663,\n",
       "         0.12091923,  0.49568508,  0.87045094,  1.24521679,  1.61998264,\n",
       "         1.9947485 ,  2.36951435,  2.7442802 ,  3.11904606,  3.49381191,\n",
       "         3.86857777,  4.24334362,  4.61810947,  4.99287533,  5.36764118,\n",
       "         5.74240704,  6.11717289,  6.49193874,  6.8667046 ,  7.24147045,\n",
       "         7.61623631,  7.99100216,  8.36576801,  8.74053387,  9.11529972,\n",
       "         9.49006557]),\n",
       " <BarContainer object of 50 artists>)"
      ]
     },
     "execution_count": 52,
     "metadata": {},
     "output_type": "execute_result"
    },
    {
     "data": {
      "image/png": "[encoded data removed]",
      "text/plain": [
       "<Figure size 640x480 with 1 Axes>"
      ]
     },
     "metadata": {},
     "output_type": "display_data"
    }
   ],
   "source": [
    "plt.hist(hpreact.view(-1).tolist(), 50)"
   ]
  },
  {
   "cell_type": "code",
   "execution_count": 53,
   "metadata": {},
   "outputs": [
    {
     "data": {
      "text/plain": [
       "<matplotlib.image.AxesImage at 0x22471dd6b10>"
      ]
     },
     "execution_count": 53,
     "metadata": {},
     "output_type": "execute_result"
    },
    {
     "data": {
      "image/png": "[encoded data removed]",
      "text/plain": [
       "<Figure size 2000x1000 with 1 Axes>"
      ]
     },
     "metadata": {},
     "output_type": "display_data"
    }
   ],
   "source": [
    "plt.figure(figsize=(20, 10))\n",
    "plt.imshow(h.abs() > 0.99, cmap='gray', interpolation='nearest')"
   ]
  },
  {
   "cell_type": "markdown",
   "metadata": {},
   "source": [
    "---"
   ]
  },
  {
   "cell_type": "markdown",
   "metadata": {},
   "source": [
    "# Selecting Initialisation Parameters\n",
    "\n",
    "- Want to reduce the standard deviation s.t the weights are initialised within the range used by the activation function that prevents the vanishing gradient problem\n",
    "- He Initialisation (`kaiming_...`) prevents the vanishing gradient problem\n",
    "  - [Paper](https://arxiv.org/abs/1502.01852)\n",
    "  - [PyTorch Initialisation Docs](https://docs.pytorch.org/docs/stable/nn.init.html)\n",
    "- 📜 NOTE: He Initialisation (ReLU) | Xavier/ Glorot Initialisation (Sigmoid & Tanh)"
   ]
  },
  {
   "cell_type": "code",
   "execution_count": 68,
   "metadata": {},
   "outputs": [
    {
     "name": "stdout",
     "output_type": "stream",
     "text": [
      "tensor(-0.0123) tensor(0.9987)\n",
      "tensor(0.0007) tensor(0.9971)\n"
     ]
    },
    {
     "data": {
      "image/png": "[encoded data removed]",
      "text/plain": [
       "<Figure size 2000x500 with 2 Axes>"
      ]
     },
     "metadata": {},
     "output_type": "display_data"
    }
   ],
   "source": [
    "# Impact of normalisation\n",
    "x = torch.randn(1000, 10)\n",
    "w = torch.randn(10, 200) / 10**0.5 # here added normalisation factor\n",
    "y = x @ w\n",
    "print(x.mean(), x.std())\n",
    "print(y.mean(), y.std())\n",
    "plt.figure(figsize=(20, 5))\n",
    "plt.subplot(121)\n",
    "plt.hist(x.view(-1).tolist(), 50, density=True)\n",
    "plt.subplot(122)\n",
    "plt.hist(y.view(-1).tolist(), 50, density=True)\n",
    "plt.show()"
   ]
  },
  {
   "cell_type": "code",
   "execution_count": 56,
   "metadata": {},
   "outputs": [
    {
     "data": {
      "text/plain": [
       "tensor(0.3025)"
      ]
     },
     "execution_count": 56,
     "metadata": {},
     "output_type": "execute_result"
    }
   ],
   "source": [
    "# Kaiming initialisation - manual is taken by the formula in the paper\n",
    "W1_kaiming_manual = torch.randn((n_embd * block_size, n_hidden), generator=g) * (5/3)/((n_embd * block_size) ** 0.5)\n",
    "W1_kaiming_manual.std()"
   ]
  },
  {
   "cell_type": "code",
   "execution_count": 64,
   "metadata": {},
   "outputs": [
    {
     "data": {
      "text/plain": [
       "tensor(0.1003)"
      ]
     },
     "execution_count": 64,
     "metadata": {},
     "output_type": "execute_result"
    }
   ],
   "source": [
    "torch.nn.init.kaiming_normal_(torch.randn((n_embd * block_size, n_hidden))).std()"
   ]
  },
  {
   "cell_type": "markdown",
   "metadata": {},
   "source": [
    "---"
   ]
  },
  {
   "cell_type": "markdown",
   "metadata": {},
   "source": [
    "# Batch Normalisation\n",
    "\n",
    "- Batch normalisation \"fixes\" the initialisation problem described earlier because it forces all weights to be within that fixed range\n",
    "- It also couples the normalisation to the randomly selected batch, which introduces some regularisation improving model performance\n",
    "  - But this is sort of undesireable because the coupling effect makes it somewhat unstable\n",
    "- Batch Normalisation also removes the bias term on any weights before it's applied\n",
    "\n",
    "<u>Note of PyTorch Implementation</u>\n",
    "\n",
    "- `momentum`: How much of the current batch's mean and standard deviation is being carried over to the global value. Smaller batch size should have smaller momentum. \n",
    "- `affine`: Tracks the global running values for use in evaluation\n",
    "\n",
    "<u>Alternatives</u>\n",
    "\n",
    "1. Group Normalisation\n",
    "2. Layer Normalisation"
   ]
  },
  {
   "cell_type": "code",
   "execution_count": null,
   "metadata": {},
   "outputs": [],
   "source": [
    "# Normalising the weights before passing to activation\n",
    "hpreact = embcat @ W1 + b1\n",
    "hpreact_norm = (hpreact - hpreact.mean(0, keepdim=True)) / hpreact.std(0, keepdim=True)"
   ]
  },
  {
   "cell_type": "code",
   "execution_count": 79,
   "metadata": {},
   "outputs": [
    {
     "name": "stdout",
     "output_type": "stream",
     "text": [
      "Total number of parameters: 12297\n"
     ]
    }
   ],
   "source": [
    "# Initialise weights and biases\n",
    "n_embd = 10\n",
    "n_hidden = 200\n",
    "\n",
    "g = torch.Generator().manual_seed(2147483647)\n",
    "C = torch.randn((vocab_size, n_embd), generator=g) \n",
    "# W1 = torch.randn((n_embd * block_size, n_hidden), generator=g) * (5/3)/((n_embd * block_size) ** 0.5)\n",
    "W1 = torch.nn.init.kaiming_normal_(torch.randn((n_embd * block_size, n_hidden), generator=g))\n",
    "b1 = torch.randn(n_hidden, generator=g) * 0.01\n",
    "W2 = torch.randn((n_hidden, vocab_size), generator=g) * 0.01\n",
    "b2 = torch.randn(vocab_size, generator=g) * 0\n",
    "\n",
    "# Introduce batch normalisation scale and shift parameters\n",
    "bngain = torch.ones((1, n_hidden))\n",
    "bnbias = torch.ones((1, n_hidden))\n",
    "bnmean_running = torch.ones((1, n_hidden))\n",
    "bnstd_running = torch.ones((1, n_hidden))\n",
    "\n",
    "parameters = [C, W1, b1, W2, b2, bngain, bnbias]\n",
    "for p in parameters:\n",
    "  p.requires_grad = True\n",
    "\n",
    "print(f\"Total number of parameters: {sum(p.nelement() for p in parameters)}\")"
   ]
  },
  {
   "cell_type": "code",
   "execution_count": 80,
   "metadata": {},
   "outputs": [
    {
     "name": "stdout",
     "output_type": "stream",
     "text": [
      "      0/ 200000: 3.3005\n",
      "  10000/ 200000: 1.7496\n",
      "  20000/ 200000: 1.8934\n",
      "  30000/ 200000: 2.4658\n",
      "  40000/ 200000: 2.3857\n",
      "  50000/ 200000: 1.9055\n",
      "  60000/ 200000: 2.3602\n",
      "  70000/ 200000: 2.1367\n",
      "  80000/ 200000: 1.7882\n",
      "  90000/ 200000: 2.3494\n",
      " 100000/ 200000: 2.1532\n",
      " 110000/ 200000: 2.1854\n",
      " 120000/ 200000: 2.0060\n",
      " 130000/ 200000: 1.7909\n",
      " 140000/ 200000: 2.2147\n",
      " 150000/ 200000: 2.2042\n",
      " 160000/ 200000: 1.8786\n",
      " 170000/ 200000: 2.1622\n",
      " 180000/ 200000: 2.5828\n",
      " 190000/ 200000: 1.8593\n"
     ]
    }
   ],
   "source": [
    "# Model\n",
    "max_steps = 200_000\n",
    "batch_size = 32\n",
    "lossi = []\n",
    "\n",
    "for i in range(max_steps):\n",
    "  # minibatch\n",
    "  ix = torch.randint(0, X_train.shape[0], (batch_size,), generator=g)\n",
    "  X_batch, y_batch = X_train[ix], y_train[ix]\n",
    "\n",
    "  # forward pass\n",
    "  emb = C[X_batch]\n",
    "  embcat = emb.view(emb.shape[0], -1)\n",
    "  hpreact = embcat @ W1 # Bias was removed\n",
    "  bnmeani = hpreact.mean(0, keepdim=True)\n",
    "  bnstdi = hpreact.std(0, keepdim=True)\n",
    "\n",
    "  # Store the current iterations batchnorm mean and std\n",
    "  with torch.no_grad():\n",
    "    bnmean_running = 0.999 * bnmean_running + 0.001 * bnmeani\n",
    "    bnstd_running = 0.999 * bnstd_running + 0.001 * bnstdi\n",
    "\n",
    "  hpreact = bngain * (hpreact - bnmeani) / bnstdi + bnbias\n",
    "  h = torch.tanh(hpreact)\n",
    "  logits = h @ W2 + b2\n",
    "  loss = F.cross_entropy(logits, y_batch)\n",
    "\n",
    "  # backward pass\n",
    "  for p in parameters:\n",
    "    p.grad = None\n",
    "  loss.backward()\n",
    "\n",
    "  # Update\n",
    "  lr = 0.1 if i < 100_000 else 0.01\n",
    "  for p in parameters:\n",
    "    p.data += -lr * p.grad\n",
    "  \n",
    "  # Track stats\n",
    "  if i % 10_000 == 0:\n",
    "    print(f\"{i:7d}/{max_steps:7d}: {loss.item():.4f}\")\n",
    "  lossi.append(loss.log10().item())"
   ]
  },
  {
   "cell_type": "code",
   "execution_count": 83,
   "metadata": {},
   "outputs": [],
   "source": [
    "# During prediction, a global mean and standard deviation is calculated for single data points\n",
    "with torch.no_grad():\n",
    "  emb = C[X_train]\n",
    "  embcat = emb.view(emb.shape[0], -1)\n",
    "  hpreact = embcat @ W1 + b1\n",
    "  bnmean_global = hpreact.mean(0, keepdim=True)\n",
    "  bnstd_global = hpreact.std(0, keepdim=True)"
   ]
  },
  {
   "cell_type": "code",
   "execution_count": 84,
   "metadata": {},
   "outputs": [
    {
     "data": {
      "text/plain": [
       "tensor([[-1.2612e-01, -1.0051e-01, -2.1702e+00,  2.4372e-01,  1.4944e+00,\n",
       "         -2.9264e-01,  1.6703e+00, -5.5624e-01, -9.5669e-01,  1.1853e+00,\n",
       "          1.3675e+00,  4.9302e-01, -4.3049e-01,  2.3561e-01, -1.0605e+00,\n",
       "          2.8803e-01,  3.0179e-01, -6.4920e-01, -9.3474e-01,  1.4905e+00,\n",
       "         -2.8807e-01, -4.1343e-03,  2.1199e-01,  4.5573e-01, -1.4325e+00,\n",
       "          1.7215e+00,  1.8111e+00, -1.9293e-01, -6.7330e-01,  4.8783e-01,\n",
       "         -7.2574e-01,  7.4501e-01,  1.5750e+00,  8.6376e-01,  8.5215e-01,\n",
       "         -8.7254e-01, -2.0355e-03, -1.1334e+00,  7.2321e-01, -9.4734e-01,\n",
       "         -1.0217e+00, -8.9400e-01,  2.7695e+00, -2.5688e+00, -9.4486e-01,\n",
       "          7.4543e-01, -8.7580e-01,  1.7594e+00, -1.0670e+00, -2.1044e+00,\n",
       "          8.8767e-01, -2.7694e-01, -7.7919e-02,  6.5699e-01, -4.1172e-01,\n",
       "          2.7234e-01, -1.8186e+00,  4.7657e-01,  1.1556e+00,  5.1692e-02,\n",
       "          5.6194e-01, -1.6503e-01,  4.5875e-01, -1.0336e+00, -5.8156e-01,\n",
       "          9.1765e-01, -4.0816e-01,  7.0025e-01,  4.5652e-01, -1.0978e+00,\n",
       "         -1.2557e+00, -1.4991e+00, -5.0963e-01, -9.6162e-01,  4.8266e-01,\n",
       "         -1.7517e+00, -6.1420e-01,  1.7816e+00, -1.5222e+00, -1.4339e+00,\n",
       "         -9.2484e-01, -1.4833e+00, -2.8015e+00, -9.0163e-01, -1.8497e+00,\n",
       "         -2.1444e+00,  2.3151e-01, -1.6393e-01, -1.0792e+00,  4.0354e-01,\n",
       "         -4.8058e-01, -1.1344e+00,  5.0411e-01, -1.0767e+00, -2.4490e+00,\n",
       "          1.5004e-01, -9.4244e-01, -1.8921e+00, -3.6021e-01, -1.4121e+00,\n",
       "         -2.6752e-01,  8.7135e-01, -4.9091e-01, -1.5044e+00,  7.8738e-02,\n",
       "          6.7707e-01, -8.7785e-01, -9.6722e-01, -1.7344e+00, -1.1541e+00,\n",
       "         -8.6901e-02,  2.8719e-01, -7.5824e-01, -3.8215e-01,  6.4479e-01,\n",
       "         -3.2648e-01,  4.8068e-01,  2.1492e+00, -8.0664e-01,  1.0358e+00,\n",
       "         -1.2444e-01,  1.6028e-01,  1.4439e+00, -3.1087e+00, -7.6261e-01,\n",
       "         -1.5538e+00,  3.4836e-03,  1.7436e+00,  8.1814e-01,  1.7813e-01,\n",
       "         -7.2588e-01,  8.8869e-02,  9.3978e-01, -1.2837e+00,  2.9432e-01,\n",
       "         -5.6851e-01, -5.4441e-01, -2.3292e-01, -1.6594e+00,  2.0003e-01,\n",
       "          2.4410e+00, -7.7302e-01,  1.0203e-01,  2.3372e-01, -1.0394e+00,\n",
       "         -1.0121e+00,  2.7426e-01,  1.7849e-01,  5.7083e-03, -1.6711e+00,\n",
       "         -4.7232e-01, -1.5142e+00, -1.7999e+00, -1.3649e-01, -6.6701e-01,\n",
       "         -5.3699e-01, -9.4114e-01, -1.2175e+00,  1.1822e+00, -1.3712e+00,\n",
       "         -6.5542e-01,  4.8531e-01, -2.4172e-01,  4.9244e-01, -2.5135e+00,\n",
       "         -2.6688e+00,  5.0143e-01,  3.8021e-01, -3.2062e-01, -3.2891e-01,\n",
       "         -6.4739e-01, -1.8804e+00,  3.3672e-02, -1.0196e+00, -2.0478e-02,\n",
       "         -2.4560e+00, -3.5978e-01,  7.1951e-01,  7.8772e-01, -9.4381e-01,\n",
       "         -1.7075e+00,  3.9235e-01, -1.3938e+00, -2.7106e+00, -3.9851e-01,\n",
       "         -2.1147e+00,  6.5264e-02,  3.2285e-01, -2.0144e-01,  1.1645e+00,\n",
       "          9.2413e-02,  6.9983e-01,  1.9165e+00, -4.1111e-01, -2.9984e+00,\n",
       "          2.5971e-01, -3.0327e-02,  1.7743e+00,  2.0253e+00,  7.2286e-01]])"
      ]
     },
     "execution_count": 84,
     "metadata": {},
     "output_type": "execute_result"
    }
   ],
   "source": [
    "bnmean_global"
   ]
  },
  {
   "cell_type": "code",
   "execution_count": 82,
   "metadata": {},
   "outputs": [
    {
     "data": {
      "text/plain": [
       "tensor([[-0.1342, -0.1015, -2.1609,  0.2505,  1.4949, -0.2887,  1.6693, -0.5581,\n",
       "         -0.9523,  1.1864,  1.3652,  0.5007, -0.4412,  0.2218, -1.0483,  0.2983,\n",
       "          0.2896, -0.6461, -0.9272,  1.4853, -0.2869, -0.0126,  0.2153,  0.4540,\n",
       "         -1.4131,  1.7190,  1.7974, -0.1996, -0.6717,  0.4803, -0.7224,  0.7459,\n",
       "          1.5730,  0.8695,  0.8390, -0.8699, -0.0067, -1.1330,  0.7333, -0.9382,\n",
       "         -1.0093, -0.8881,  2.7649, -2.5632, -0.9416,  0.7305, -0.8737,  1.7590,\n",
       "         -1.0677, -2.0979,  0.8859, -0.2716, -0.0788,  0.6561, -0.4092,  0.2575,\n",
       "         -1.8166,  0.4726,  1.1545,  0.0464,  0.5564, -0.1721,  0.4492, -1.0177,\n",
       "         -0.5799,  0.9156, -0.4047,  0.7095,  0.4557, -1.1091, -1.2574, -1.4859,\n",
       "         -0.5263, -0.9590,  0.4850, -1.7552, -0.5962,  1.7722, -1.5222, -1.4342,\n",
       "         -0.9261, -1.4717, -2.7902, -0.9015, -1.8448, -2.1532,  0.2333, -0.1567,\n",
       "         -1.0636,  0.3865, -0.4722, -1.1228,  0.4995, -1.0816, -2.4422,  0.1600,\n",
       "         -0.9380, -1.8825, -0.3601, -1.4027, -0.2679,  0.8628, -0.4908, -1.4920,\n",
       "          0.0864,  0.6618, -0.8741, -0.9406, -1.7356, -1.1547, -0.0689,  0.2773,\n",
       "         -0.7551, -0.3730,  0.6453, -0.3317,  0.4671,  2.1454, -0.7951,  1.0250,\n",
       "         -0.1350,  0.1596,  1.4393, -3.1044, -0.7618, -1.5657,  0.0052,  1.7380,\n",
       "          0.8204,  0.1704, -0.7131,  0.0787,  0.9480, -1.2771,  0.2960, -0.5527,\n",
       "         -0.5426, -0.2235, -1.6598,  0.1968,  2.4341, -0.7717,  0.0965,  0.2200,\n",
       "         -1.0397, -1.0122,  0.2783,  0.1683,  0.0034, -1.6677, -0.4657, -1.5071,\n",
       "         -1.7990, -0.1236, -0.6632, -0.5340, -0.9466, -1.2108,  1.1801, -1.3722,\n",
       "         -0.6424,  0.4741, -0.2472,  0.4996, -2.5024, -2.6591,  0.5049,  0.3800,\n",
       "         -0.3224, -0.3240, -0.6420, -1.8746,  0.0273, -1.0237, -0.0171, -2.4640,\n",
       "         -0.3682,  0.7135,  0.7734, -0.9473, -1.6973,  0.3934, -1.3980, -2.6953,\n",
       "         -0.3960, -2.0939,  0.0738,  0.3188, -0.2090,  1.1588,  0.0876,  0.6816,\n",
       "          1.9104, -0.4098, -2.9840,  0.2710, -0.0216,  1.7792,  2.0166,  0.7230]])"
      ]
     },
     "execution_count": 82,
     "metadata": {},
     "output_type": "execute_result"
    }
   ],
   "source": [
    "bnmean_running"
   ]
  },
  {
   "cell_type": "code",
   "execution_count": 85,
   "metadata": {},
   "outputs": [
    {
     "name": "stdout",
     "output_type": "stream",
     "text": [
      "train 2.055612325668335\n",
      "val 2.1173553466796875\n"
     ]
    }
   ],
   "source": [
    "# For evaluation\n",
    "@torch.no_grad()\n",
    "def split_loss(split):\n",
    "  x, y = {\n",
    "    'train': (X_train, y_train),\n",
    "    'val': (X_val, y_val),\n",
    "    'test': (X_test, y_test)\n",
    "  }[split]\n",
    "\n",
    "  emb = C[x]\n",
    "  embcat = emb.view(emb.shape[0], -1)\n",
    "  hpreact = embcat @ W1 + b1\n",
    "  # hpreact = bngain * (hpreact - hpreact.mean(0, keepdim=True)) / hpreact.std(0, keepdim=True) + bnbias\n",
    "  hpreact = bngain * (hpreact - bnmean_running) / bnstd_running + bnbias\n",
    "  h = torch.tanh(hpreact)\n",
    "  logits = h @ W2 + b2\n",
    "  loss = F.cross_entropy(logits, y)\n",
    "  print(split, loss.item())\n",
    "\n",
    "split_loss('train')\n",
    "split_loss('val')"
   ]
  },
  {
   "cell_type": "markdown",
   "metadata": {},
   "source": [
    "---"
   ]
  },
  {
   "cell_type": "markdown",
   "metadata": {},
   "source": [
    "# Recreating in PyTorch"
   ]
  },
  {
   "cell_type": "code",
   "execution_count": null,
   "metadata": {},
   "outputs": [],
   "source": [
    "class Linear:\n",
    "  def __init__(self, fan_in, fan_out, bias=True):\n",
    "    self.weight = torch.randn((fan_in, fan_out), generator=g) / fan_in**0.5\n",
    "    self.bias = torch.zeros(fan_out) if bias else None\n",
    "  \n",
    "  def __call__(self, x):\n",
    "    self.out = x @ self.weight\n",
    "    if self.bias is not None:\n",
    "      self.out += self.bias\n",
    "    return self.out\n",
    "  \n",
    "  def parameters(self):\n",
    "    return [self.weight] + ([] if self.bias is None else [self.bias])"
   ]
  },
  {
   "cell_type": "code",
   "execution_count": null,
   "metadata": {},
   "outputs": [],
   "source": [
    "class BatchNorm1d:\n",
    "  def __init__(self, dim, eps=1e-5, momentum=0.1):\n",
    "    self.eps = eps\n",
    "    self.momentum = momentum\n",
    "    self.training = True\n",
    "\n",
    "    # Parameters (trained with backprop)\n",
    "    self.gamma = self.torch.ones(dim)\n",
    "    self.beta = self.torch.zeros(dim)\n",
    "\n",
    "    # Buffers (trained with running 'momentum update')\n",
    "    self.running_mean = torch.zeros(dim)\n",
    "    self.running_var = torch.ones(dim)\n",
    "  \n",
    "  def __call__(self, x):\n",
    "    # Forward pass\n",
    "    if self.training:\n",
    "      xmean = x.mean(0, keepdim=True)\n",
    "      xvar = x.var(0, keepdim=True)"
   ]
  },
  {
   "cell_type": "code",
   "execution_count": null,
   "metadata": {},
   "outputs": [],
   "source": []
  },
  {
   "cell_type": "code",
   "execution_count": null,
   "metadata": {},
   "outputs": [],
   "source": [
    "%watermark"
   ]
  }
 ],
 "metadata": {
  "kernelspec": {
   "display_name": "py311_env",
   "language": "python",
   "name": "python3"
  },
  "language_info": {
   "codemirror_mode": {
    "name": "ipython",
    "version": 3
   },
   "file_extension": ".py",
   "mimetype": "text/x-python",
   "name": "python",
   "nbconvert_exporter": "python",
   "pygments_lexer": "ipython3",
   "version": "3.11.9"
  }
 },
 "nbformat": 4,
 "nbformat_minor": 2
}
